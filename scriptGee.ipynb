{
 "cells": [
  {
   "cell_type": "code",
   "execution_count": 11,
   "id": "37298029",
   "metadata": {},
   "outputs": [],
   "source": [
    "#importando libs\n",
    "import ee\n",
    "from geemap import Map, ee_export_image"
   ]
  },
  {
   "cell_type": "code",
   "execution_count": 12,
   "id": "43d43c16",
   "metadata": {},
   "outputs": [],
   "source": [
    "#Inicializando o gee\n",
    "#ee.Authenticate()\n",
    "ee.Initialize()"
   ]
  },
  {
   "cell_type": "code",
   "execution_count": 13,
   "id": "fac66779",
   "metadata": {},
   "outputs": [],
   "source": [
    "#Carregando limites do municipio de santo Antonio\n",
    "roi = ee.FeatureCollection('users/tassios13/limiteSantoAntonio')"
   ]
  },
  {
   "cell_type": "code",
   "execution_count": 14,
   "id": "20ef03fd",
   "metadata": {},
   "outputs": [],
   "source": [
    "#Centralizando o mapa na longitude/latitude/zoom desejados\n",
    "mapObject = Map(center=[-20.95,-44.92],zoom=11)"
   ]
  },
  {
   "cell_type": "code",
   "execution_count": 15,
   "id": "678e3de5",
   "metadata": {},
   "outputs": [],
   "source": [
    "#Obtendo as imagens da coleção\n",
    "img = (ee.ImageCollection('LANDSAT/LC08/C01/T1_RT_TOA')\n",
    ".filterMetadata('CLOUD_COVER', 'less_than', 50)\n",
    ".filterDate('2019-11-01', '2020-11-30')\n",
    ".mosaic()\n",
    ".clip(roi))"
   ]
  },
  {
   "cell_type": "code",
   "execution_count": 16,
   "id": "00cff02d",
   "metadata": {},
   "outputs": [],
   "source": [
    "#Função NDVI\n",
    "ndvi = img.normalizedDifference(['B5', 'B4'])\n",
    "#Expressão NDVI QUAD\n",
    "ndviQUAD = img.expression(\n",
    "  ' - 8.712 + (17.325 * ndvi) - (8.739 * ndvi**2) ',\n",
    "  {\n",
    "    'ndvi': ndvi,    \n",
    "  })"
   ]
  },
  {
   "cell_type": "code",
   "execution_count": 17,
   "id": "e05465eb",
   "metadata": {},
   "outputs": [],
   "source": [
    "#Adicionando Layer ao mapa de vizualização\n",
    "paleta = ['FFFFFF', 'CE7E45', 'DF923D', 'F1B555', 'FCD163', '99B718',\n",
    "               '74A901', '66A000', '529400', '3E8601', '207401', '056201',\n",
    "               '004C00', '023B01', '012E01', '011D01', '011301']\n",
    "vis_params1 = {\n",
    "  'min': -10,\n",
    "  'max': 1,\n",
    "  'palette': paleta\n",
    "}\n",
    "mapObject.addLayer(ndviQUAD, vis_params1, 'NDVI')"
   ]
  },
  {
   "cell_type": "code",
   "execution_count": 18,
   "id": "f789055e",
   "metadata": {},
   "outputs": [],
   "source": [
    "#Adicionando segundo Layer\n",
    "vis_params2 = {\n",
    "  'bands': ['B5', 'B4', 'B2'],\n",
    "  'max': 1,\n",
    "  'gamma': 1\n",
    "}\n",
    "mapObject.addLayer(img, vis_params2)"
   ]
  },
  {
   "cell_type": "code",
   "execution_count": 19,
   "id": "e1998582",
   "metadata": {},
   "outputs": [],
   "source": [
    "from datetime import datetime\n",
    "imgName = './images/STA_NDVI_date.tif'\n",
    "now = datetime.now()\n",
    "now_string = now.strftime(\"%d_%m_%Y_%H:%M:%S\")\n",
    "imgName = imgName.replace('date',now_string)"
   ]
  },
  {
   "cell_type": "code",
   "execution_count": 20,
   "id": "b4560a3d",
   "metadata": {},
   "outputs": [
    {
     "name": "stdout",
     "output_type": "stream",
     "text": [
      "Generating URL ...\n",
      "Downloading data from https://earthengine.googleapis.com/v1alpha/projects/earthengine-legacy/thumbnails/965da7e91207af8c3554cbf62c3e6ad1-6d09ad66b79c9b84d1b641276acd695e:getPixels\n",
      "Please wait ...\n",
      "Data downloaded to /home/tassio/TCC/geocafe-backend/images/STA_NDVI_21_08_2022_19:51:30.tif\n"
     ]
    }
   ],
   "source": [
    "\n",
    "ee_export_image(img, imgName, scale=90, crs=None, region=roi.geometry(), file_per_band=False)"
   ]
  }
 ],
 "metadata": {
  "kernelspec": {
   "display_name": "Python 3.9.7 64-bit ('3.9.7')",
   "language": "python",
   "name": "python3"
  },
  "language_info": {
   "codemirror_mode": {
    "name": "ipython",
    "version": 3
   },
   "file_extension": ".py",
   "mimetype": "text/x-python",
   "name": "python",
   "nbconvert_exporter": "python",
   "pygments_lexer": "ipython3",
   "version": "3.9.7"
  },
  "vscode": {
   "interpreter": {
    "hash": "69b18723f05a22964134e2c3ab619d99f3032f318403fa917b052daad13d52d0"
   }
  }
 },
 "nbformat": 4,
 "nbformat_minor": 5
}
